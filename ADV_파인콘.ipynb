{
  "cells": [
    {
      "cell_type": "markdown",
      "metadata": {
        "id": "jVouyRC49LZc"
      },
      "source": [
        "**전달사항**\n",
        "\n",
        "**1. 마지막 벡터 DB 사용 관련 참고**\n",
        "\n",
        "**2. pinecone API 키 확인 + 우리가 사용하는 pinecone DB 이름은 adv-db-1**\n",
        "\n",
        "**3. 메타데이터 관련해서 DB 구조는 노션에 첨부한 이미지 참고**"
      ]
    },
    {
      "cell_type": "code",
      "execution_count": null,
      "metadata": {
        "id": "TXxKx71ywKbC"
      },
      "outputs": [],
      "source": [
        "!pip install langchain_openai"
      ]
    },
    {
      "cell_type": "code",
      "execution_count": null,
      "metadata": {
        "id": "hBL0vdAjvqxI"
      },
      "outputs": [],
      "source": [
        "!pip install pinecone-client"
      ]
    },
    {
      "cell_type": "markdown",
      "metadata": {
        "id": "CBrvYu__FBNi"
      },
      "source": [
        "# 벡터 DB 1 구축"
      ]
    },
    {
      "cell_type": "markdown",
      "metadata": {
        "id": "tZYG9Xt99Aw9"
      },
      "source": [
        "**데이터 및 라이브러리 import**"
      ]
    },
    {
      "cell_type": "code",
      "execution_count": null,
      "metadata": {
        "id": "-oD1nL3yvwgn"
      },
      "outputs": [],
      "source": [
        "from langchain_openai import OpenAIEmbeddings\n",
        "import pandas as pd\n",
        "import numpy as np\n",
        "from pinecone import Pinecone, ServerlessSpec"
      ]
    },
    {
      "cell_type": "code",
      "execution_count": null,
      "metadata": {
        "id": "96UaCnZT4u-J"
      },
      "outputs": [],
      "source": [
        "# 데이터 불러오기\n",
        "data_긍정 = pd.read_excel(\"/content/cluster_good_reviews_건강고민별.xlsx\")\n",
        "data_부정 = pd.read_excel(\"/content/cluster_bad_reviews_건강고민별.xlsx\")"
      ]
    },
    {
      "cell_type": "markdown",
      "metadata": {
        "id": "CMtxxw6D441s"
      },
      "source": [
        "**파인콘 벡터 DB 생성**"
      ]
    },
    {
      "cell_type": "code",
      "execution_count": null,
      "metadata": {
        "id": "fjzr-gzPvwie"
      },
      "outputs": [],
      "source": [
        "# Pinecone 객체 생성 및 API 키 설정\n",
        "pc = Pinecone(api_key=api_key)"
      ]
    },
    {
      "cell_type": "code",
      "execution_count": null,
      "metadata": {
        "id": "lFW-Js62vwlD"
      },
      "outputs": [],
      "source": [
        "# Pinecone index 이름 설정 및 생성\n",
        "index_name = \"adv-db-1\"\n",
        "if index_name not in pc.list_indexes().names():\n",
        "    pc.create_index(\n",
        "        name=index_name,\n",
        "        dimension=1536,  # 임베딩의 차원 수\n",
        "        metric='cosine',\n",
        "        spec=ServerlessSpec(\n",
        "            cloud='aws',\n",
        "            region='us-east-1'  # 서버리스 사양에 맞는 클라우드 및 리전 설정\n",
        "        )\n",
        "    )\n",
        "index = pc.Index(name=index_name)"
      ]
    },
    {
      "cell_type": "markdown",
      "metadata": {
        "id": "FfJ2uoDR8uSh"
      },
      "source": [
        "**review 데이터 임베딩**"
      ]
    },
    {
      "cell_type": "code",
      "execution_count": null,
      "metadata": {
        "id": "6EVDEdDSwQkD"
      },
      "outputs": [],
      "source": [
        "# open_ai 임베딩\n",
        "embeddings_model = OpenAIEmbeddings(openai_api_key=openai_api_key)"
      ]
    },
    {
      "cell_type": "code",
      "execution_count": null,
      "metadata": {
        "id": "NpQNnCjKwTRD"
      },
      "outputs": [],
      "source": [
        "# 데이터 임베딩\n",
        "def embed_review(data):\n",
        "    reviews = data.iloc[:,1].to_list()\n",
        "\n",
        "    # 임베딩 후 타입을 바로 확인합니다\n",
        "    embeddings = []\n",
        "    for review in reviews:\n",
        "        embed = embeddings_model.embed_query(review)\n",
        "        embeddings.append(np.array(embed).astype(np.float32))\n",
        "\n",
        "    return embeddings"
      ]
    },
    {
      "cell_type": "code",
      "execution_count": null,
      "metadata": {
        "id": "gGXqo0jgH0s4"
      },
      "outputs": [],
      "source": [
        "# Pinecone에 데이터 업로드\n",
        "def upload_to_pinecone(data, review_category, batch_size=100):\n",
        "    embeddings = embed_review(data)\n",
        "    if not embeddings:\n",
        "        print(\"유효한 임베딩이 없어 업로드할 수 없습니다.\")\n",
        "        return\n",
        "\n",
        "    total_embeddings = len(embeddings)\n",
        "    print(f\"{total_embeddings}개의 {type(embeddings[0])} 타입 임베딩을 업로드합니다.\")\n",
        "\n",
        "    # 데이터를 배치 크기로 나누어 업로드\n",
        "    for i in range(0, total_embeddings, batch_size):\n",
        "        batch_embeddings = embeddings[i:i + batch_size]\n",
        "        batch_data = data.iloc[i:i + batch_size]\n",
        "\n",
        "        # 카테고리를 ID 접두사로 사용하여 고유 ID 생성\n",
        "        vectors = [(f\"{review_category}-{j}\", batch_embeddings[j-i], {\n",
        "            '브랜드명_제품명': batch_data.iloc[j-i][0],\n",
        "            '건강고민정보': batch_data.iloc[j-i][2],\n",
        "            '리뷰 요약': batch_data.iloc[j-i][1],\n",
        "            '리뷰 종류': review_category\n",
        "        }) for j in range(i, min(i + batch_size, total_embeddings))]\n",
        "\n",
        "        index.upsert(vectors=vectors)"
      ]
    },
    {
      "cell_type": "code",
      "execution_count": null,
      "metadata": {
        "colab": {
          "base_uri": "https://localhost:8080/"
        },
        "id": "K5Cabl6tH2cN",
        "outputId": "47c74c89-3ce8-45dc-fe0a-ef7adbdb1db7"
      },
      "outputs": [
        {
          "name": "stdout",
          "output_type": "stream",
          "text": [
            "8232개의 <class 'numpy.ndarray'> 타입 임베딩을 업로드합니다.\n",
            "10213개의 <class 'numpy.ndarray'> 타입 임베딩을 업로드합니다.\n"
          ]
        }
      ],
      "source": [
        "# 카테고리 별로 데이터 업로드\n",
        "upload_to_pinecone(data_긍정, 'good', batch_size=100)\n",
        "upload_to_pinecone(data_부정, 'bad', batch_size=100)"
      ]
    },
    {
      "cell_type": "markdown",
      "metadata": {
        "id": "t-a4K5fMCuxe"
      },
      "source": [
        "**벡터 DB 확인**"
      ]
    },
    {
      "cell_type": "code",
      "execution_count": null,
      "metadata": {
        "colab": {
          "base_uri": "https://localhost:8080/"
        },
        "id": "f-lxrsYbwY99",
        "outputId": "f0b7c5db-c738-467f-a3e4-f615311eb105"
      },
      "outputs": [
        {
          "name": "stdout",
          "output_type": "stream",
          "text": [
            "조회 할 리뷰 요약 : 가루가 흘릴 수 있어 조심해야 함\n"
          ]
        }
      ],
      "source": [
        "query_question = input(\"조회 할 리뷰 요약 : \")\n",
        "query_embedding = embeddings_model.embed_query(query_question)\n",
        "query_embedding_np = np.array(query_embedding).astype(np.float32)\n",
        "query_embedding_list = query_embedding_np.tolist()"
      ]
    },
    {
      "cell_type": "code",
      "execution_count": null,
      "metadata": {
        "id": "3X7oCPjawa-y"
      },
      "outputs": [],
      "source": [
        "# Pinecone 쿼리 실행\n",
        "response = index.query(\n",
        "    vector=query_embedding_list,  # 쿼리 벡터\n",
        "    top_k=3,                      # 상위 3개의 결과를 반환\n",
        "    include_metadata=True,        # 메타데이터 포함\n",
        "    # filter={\n",
        "    #     '리뷰 종류': 'good'  # '리뷰 종류' 메타데이터가 'good'인 항목만 검색\n",
        "    # }\n",
        ")"
      ]
    },
    {
      "cell_type": "code",
      "execution_count": null,
      "metadata": {
        "id": "1Hk0-IVHFsC3"
      },
      "outputs": [],
      "source": [
        "result = response['matches']"
      ]
    },
    {
      "cell_type": "code",
      "execution_count": null,
      "metadata": {
        "colab": {
          "base_uri": "https://localhost:8080/"
        },
        "id": "3shePXQFVLwH",
        "outputId": "b63a45ac-74ab-451b-e683-0902c2f83c11"
      },
      "outputs": [
        {
          "data": {
            "text/plain": [
              "[{'id': 'bad-8884',\n",
              "  'metadata': {'건강고민정보': '장건강_유익균유해균균형도움',\n",
              "               '리뷰 요약': '가루가 흘릴 수 있어 조심해야 함',\n",
              "               '리뷰 종류': 'bad',\n",
              "               '브랜드명_제품명': '서울약사신협_프로바이오 생유산균'},\n",
              "  'score': 1.00000012,\n",
              "  'values': []},\n",
              " {'id': 'bad-9282',\n",
              "  'metadata': {'건강고민정보': '치아잇몸&잇몸건강',\n",
              "               '리뷰 요약': '가루 날림이 있어 조심해야 함',\n",
              "               '리뷰 종류': 'bad',\n",
              "               '브랜드명_제품명': '애터미_컬러푸드 비타민C'},\n",
              "  'score': 0.967417538,\n",
              "  'values': []},\n",
              " {'id': 'bad-9241',\n",
              "  'metadata': {'건강고민정보': '치아잇몸&잇몸건강',\n",
              "               '리뷰 요약': '가루가 뭉치는 현상이 있어 조심해서 섭취해야 함',\n",
              "               '리뷰 종류': 'bad',\n",
              "               '브랜드명_제품명': '광동제약_비타500 데일리 스틱'},\n",
              "  'score': 0.934337318,\n",
              "  'values': []}]"
            ]
          },
          "execution_count": 19,
          "metadata": {},
          "output_type": "execute_result"
        }
      ],
      "source": [
        "result"
      ]
    },
    {
      "cell_type": "markdown",
      "metadata": {
        "id": "DoXY334yJ3wZ"
      },
      "source": [
        "# 벡터 DB 2 구축"
      ]
    },
    {
      "cell_type": "markdown",
      "metadata": {
        "id": "jgZBorNeJ3wZ"
      },
      "source": [
        "**데이터 및 라이브러리 import**"
      ]
    },
    {
      "cell_type": "code",
      "execution_count": null,
      "metadata": {
        "id": "uLb9bhGMJ3wZ"
      },
      "outputs": [],
      "source": [
        "from langchain_openai import OpenAIEmbeddings\n",
        "import pandas as pd\n",
        "import numpy as np\n",
        "from pinecone import Pinecone, ServerlessSpec"
      ]
    },
    {
      "cell_type": "code",
      "execution_count": null,
      "metadata": {
        "id": "4KJE-sZwJ3wZ"
      },
      "outputs": [],
      "source": [
        "# 데이터 불러오기\n",
        "data_긍정 = pd.read_excel(\"/content/긍정_건강고민_일반특성정보.xlsx\")\n",
        "data_부정 = pd.read_excel(\"/content/부정_건강고민_일반특성정보.xlsx\")"
      ]
    },
    {
      "cell_type": "markdown",
      "metadata": {
        "id": "5O_6tEkIZee0"
      },
      "source": [
        "**데이터 전처리**"
      ]
    },
    {
      "cell_type": "code",
      "execution_count": null,
      "metadata": {
        "id": "d6oUoY9aKpQY"
      },
      "outputs": [],
      "source": [
        "# '일반특성정보' 컬럼의 데이터를 '\\n' 기준으로 분리하여 새로운 행으로 확장\n",
        "exploded_data_긍정 = data_긍정.set_index('건강고민')['일반특성정보'].str.split('\\n').explode().reset_index()\n",
        "exploded_data_부정 = data_부정.set_index('건강고민')['일반특성정보'].str.split('\\n').explode().reset_index()"
      ]
    },
    {
      "cell_type": "markdown",
      "metadata": {
        "id": "jFctSBtcJ3wa"
      },
      "source": [
        "**파인콘 벡터 DB 생성**"
      ]
    },
    {
      "cell_type": "code",
      "execution_count": null,
      "metadata": {
        "id": "2IFcEl_NJ3wa"
      },
      "outputs": [],
      "source": [
        "# Pinecone 객체 생성 및 API 키 설정\n",
        "pc = Pinecone(api_key=api_key)"
      ]
    },
    {
      "cell_type": "code",
      "execution_count": null,
      "metadata": {
        "id": "5foaC_r2J3wa"
      },
      "outputs": [],
      "source": [
        "# Pinecone index 이름 설정 및 생성\n",
        "index_name = \"adv-db-2\"\n",
        "if index_name not in pc.list_indexes().names():\n",
        "    pc.create_index(\n",
        "        name=index_name,\n",
        "        dimension=1536,  # 임베딩의 차원 수\n",
        "        metric='cosine',\n",
        "        spec=ServerlessSpec(\n",
        "            cloud='aws',\n",
        "            region='us-east-1'  # 서버리스 사양에 맞는 클라우드 및 리전 설정\n",
        "        )\n",
        "    )\n",
        "index = pc.Index(name=index_name)"
      ]
    },
    {
      "cell_type": "markdown",
      "metadata": {
        "id": "VUELRj1fJ3wa"
      },
      "source": [
        "**review 데이터 임베딩**"
      ]
    },
    {
      "cell_type": "code",
      "execution_count": null,
      "metadata": {
        "id": "OdPjV1zBJ3wa"
      },
      "outputs": [],
      "source": [
        "# open_ai 임베딩\n",
        "embeddings_model = OpenAIEmbeddings(openai_api_key=openai_api_key)"
      ]
    },
    {
      "cell_type": "code",
      "execution_count": null,
      "metadata": {
        "id": "sS5DR_UTJ3wa"
      },
      "outputs": [],
      "source": [
        "# 데이터 임베딩\n",
        "def embed_review(data):\n",
        "    reviews = data.iloc[:,1].to_list()\n",
        "\n",
        "    # 임베딩 후 타입을 바로 확인합니다\n",
        "    embeddings = []\n",
        "    for review in reviews:\n",
        "        embed = embeddings_model.embed_query(review)\n",
        "        embeddings.append(np.array(embed).astype(np.float32))\n",
        "\n",
        "    return embeddings"
      ]
    },
    {
      "cell_type": "code",
      "execution_count": null,
      "metadata": {
        "id": "2pNa4jJBWa2T"
      },
      "outputs": [],
      "source": [
        "# Pinecone에 데이터 업로드\n",
        "def upload_to_pinecone(data, review_category, batch_size=100):\n",
        "    embeddings = embed_review(data)\n",
        "    if not embeddings:\n",
        "        print(\"유효한 임베딩이 없어 업로드할 수 없습니다.\")\n",
        "        return\n",
        "\n",
        "    total_embeddings = len(embeddings)\n",
        "    print(f\"{total_embeddings}개의 {type(embeddings[0])} 타입 임베딩을 업로드합니다.\")\n",
        "\n",
        "    # 데이터를 배치 크기로 나누어 업로드\n",
        "    for i in range(0, total_embeddings, batch_size):\n",
        "        batch_embeddings = embeddings[i:i + batch_size]\n",
        "        batch_data = data.iloc[i:i + batch_size]\n",
        "\n",
        "        # 카테고리를 ID 접두사로 사용하여 고유 ID 생성\n",
        "        vectors = [(f\"{review_category}-{j}\", batch_embeddings[j-i], {\n",
        "            '건강고민정보': batch_data.iloc[j-i][0],\n",
        "            '일반 특성 정보': batch_data.iloc[j-i][1],\n",
        "            '리뷰 종류': review_category\n",
        "        }) for j in range(i, min(i + batch_size, total_embeddings))]\n",
        "\n",
        "        index.upsert(vectors=vectors)"
      ]
    },
    {
      "cell_type": "code",
      "execution_count": null,
      "metadata": {
        "colab": {
          "base_uri": "https://localhost:8080/"
        },
        "id": "MBG2AF_GJ3wa",
        "outputId": "178e8760-5c62-498c-80f3-bae18688a182"
      },
      "outputs": [
        {
          "name": "stdout",
          "output_type": "stream",
          "text": [
            "673개의 <class 'numpy.ndarray'> 타입 임베딩을 업로드합니다.\n",
            "507개의 <class 'numpy.ndarray'> 타입 임베딩을 업로드합니다.\n"
          ]
        }
      ],
      "source": [
        "# 카테고리 별로 데이터 업로드\n",
        "upload_to_pinecone(exploded_data_긍정, 'good', batch_size=100)\n",
        "upload_to_pinecone(exploded_data_부정, 'bad', batch_size=100)"
      ]
    },
    {
      "cell_type": "markdown",
      "metadata": {
        "id": "Jg1VVa3SJ3wa"
      },
      "source": [
        "**벡터 DB 확인**"
      ]
    },
    {
      "cell_type": "code",
      "execution_count": null,
      "metadata": {
        "colab": {
          "base_uri": "https://localhost:8080/"
        },
        "id": "8wQrth8EJ3wa",
        "outputId": "576ae7d1-1860-4ea4-a70e-945d22afdb56"
      },
      "outputs": [
        {
          "name": "stdout",
          "output_type": "stream",
          "text": [
            "조회 할 일반 특성 정보 : 작은 알약\n"
          ]
        }
      ],
      "source": [
        "query_question = input(\"조회 할 일반 특성 정보 : \")\n",
        "query_embedding = embeddings_model.embed_query(query_question)\n",
        "query_embedding_np = np.array(query_embedding).astype(np.float32)\n",
        "query_embedding_list = query_embedding_np.tolist()"
      ]
    },
    {
      "cell_type": "code",
      "execution_count": null,
      "metadata": {
        "id": "H8jGe3nOJ3wa"
      },
      "outputs": [],
      "source": [
        "# Pinecone 쿼리 실행\n",
        "response = index.query(\n",
        "    vector=query_embedding_list,  # 쿼리 벡터\n",
        "    top_k=3,                      # 상위 3개의 결과를 반환\n",
        "    include_metadata=True,        # 메타데이터 포함\n",
        "    # filter={\n",
        "    #     '리뷰 종류': 'good'  # '리뷰 종류' 메타데이터가 'good'인 항목만 검색\n",
        "    # }\n",
        ")"
      ]
    },
    {
      "cell_type": "code",
      "execution_count": null,
      "metadata": {
        "id": "Jl2jM2pFJ3wa"
      },
      "outputs": [],
      "source": [
        "result = response['matches']"
      ]
    },
    {
      "cell_type": "code",
      "execution_count": null,
      "metadata": {
        "colab": {
          "base_uri": "https://localhost:8080/"
        },
        "id": "IMWK_USrWhZX",
        "outputId": "64fc8af5-1fa9-4524-9b4d-56a059951620"
      },
      "outputs": [
        {
          "data": {
            "text/plain": [
              "[{'id': 'good-177',\n",
              "  'metadata': {'건강고민정보': '빈혈_혈액생성', '리뷰 종류': 'good', '일반 특성 정보': '작은 알약 크기'},\n",
              "  'score': 0.958754241,\n",
              "  'values': []},\n",
              " {'id': 'good-75',\n",
              "  'metadata': {'건강고민정보': '노화&향산화', '리뷰 종류': 'good', '일반 특성 정보': '작은 알약 크기'},\n",
              "  'score': 0.958754241,\n",
              "  'values': []},\n",
              " {'id': 'good-414',\n",
              "  'metadata': {'건강고민정보': '체지방_지방대사촉진', '리뷰 종류': 'good', '일반 특성 정보': '작은 알약 크기'},\n",
              "  'score': 0.958754241,\n",
              "  'values': []}]"
            ]
          },
          "execution_count": 29,
          "metadata": {},
          "output_type": "execute_result"
        }
      ],
      "source": [
        "result"
      ]
    },
    {
      "cell_type": "markdown",
      "metadata": {
        "id": "n7K7cR6pvOmb"
      },
      "source": [
        "# 벡터 DB 1과 2 합쳐서 DB 3 구축"
      ]
    },
    {
      "cell_type": "code",
      "execution_count": null,
      "metadata": {
        "id": "hZd4IiZg2L0t"
      },
      "outputs": [],
      "source": [
        "import torch\n",
        "from transformers import AutoModel, AutoTokenizer\n",
        "from scipy.spatial.distance import cosine\n",
        "\n",
        "# 모델과 토크나이저 로딩\n",
        "model_name = \"klue/bert-base\"\n",
        "model = AutoModel.from_pretrained(model_name)\n",
        "tokenizer = AutoTokenizer.from_pretrained(model_name)"
      ]
    },
    {
      "cell_type": "code",
      "execution_count": null,
      "metadata": {
        "id": "cyK9A9S_xLyk"
      },
      "outputs": [],
      "source": [
        "# Pinecone index 이름 설정 및 생성\n",
        "index1 = pc.Index(name=\"adv-db-1\")\n",
        "index2 = pc.Index(name=\"adv-db-2\")"
      ]
    },
    {
      "cell_type": "markdown",
      "metadata": {
        "id": "QntnkWv-lZlf"
      },
      "source": [
        "Bert 모델을 통해 의미 기반 유사도 측정"
      ]
    },
    {
      "cell_type": "code",
      "execution_count": null,
      "metadata": {
        "id": "PmPP-9lfTFwn"
      },
      "outputs": [],
      "source": [
        "def calculate_cosine_similarity(text1, text2):\n",
        "    # 텍스트를 토큰화 및 입력 형식으로 변환\n",
        "    inputs1 = tokenizer(text1, return_tensors=\"pt\")\n",
        "    inputs2 = tokenizer(text2, return_tensors=\"pt\")\n",
        "\n",
        "    # 모델을 통해 임베딩 생성\n",
        "    with torch.no_grad():\n",
        "        outputs1 = model(**inputs1)\n",
        "        outputs2 = model(**inputs2)\n",
        "\n",
        "    # [CLS] 토큰의 임베딩 추출\n",
        "    embeddings1 = outputs1.last_hidden_state[:, 0, :]\n",
        "    embeddings2 = outputs2.last_hidden_state[:, 0, :]\n",
        "\n",
        "    # 임베딩을 1차원 벡터로 변환\n",
        "    embeddings1 = embeddings1.squeeze().numpy()\n",
        "    embeddings2 = embeddings2.squeeze().numpy()\n",
        "\n",
        "    # 코사인 유사도 계산\n",
        "    similarity = 1 - cosine(embeddings1, embeddings2)\n",
        "\n",
        "    return similarity"
      ]
    },
    {
      "cell_type": "markdown",
      "metadata": {
        "id": "EXuD9Uw3lhJy"
      },
      "source": [
        "good 리뷰에 대하여 벡터 DB1에 DB2의 정보 추가하기"
      ]
    },
    {
      "cell_type": "code",
      "execution_count": null,
      "metadata": {
        "id": "36PzEVi4Nvtl"
      },
      "outputs": [],
      "source": [
        "# 각 idx에 대해 반복 실행\n",
        "for i in range(11):  # good : 8232 존재\n",
        "    idx = f'good-{i}'\n",
        "\n",
        "    # ID가 idx인 데이터를 조회합니다\n",
        "    result = index1.fetch(ids=[idx])\n",
        "\n",
        "    # 메타데이터와 벡터 데이터 추출\n",
        "    metadata = result['vectors'][idx]['metadata']\n",
        "    text1 = metadata['리뷰 요약']\n",
        "    vector_values = result['vectors'][idx]['values']\n",
        "    concern_category = metadata['건강고민정보']\n",
        "\n",
        "    # DB2에서 '건강고민정보' metadata가 concern_category와 일치하는 데이터를 검색합니다\n",
        "    query_result = index2.query(\n",
        "        vector=vector_values,\n",
        "        top_k=1,                      # 상위 1개의 결과를 반환\n",
        "        include_metadata=True,        # 메타데이터 포함\n",
        "        filter={\n",
        "            '건강고민정보': concern_category,\n",
        "            '리뷰 종류': 'good'\n",
        "        }\n",
        "    )\n",
        "\n",
        "    # matches 리스트가 비어있지 않은지 확인하고 '일반 특성 정보'와 'score' 추출\n",
        "    if query_result['matches']:\n",
        "        text2 = query_result['matches'][0]['metadata']['일반 특성 정보']\n",
        "        score = query_result['matches'][0]['score']\n",
        "    else:\n",
        "        text2 = ''  # matches 리스트가 비어 있을 경우 빈 문자열 할당\n",
        "        score = 0   # matches 리스트가 비어 있을 경우 0 할당\n",
        "\n",
        "    similarity = calculate_cosine_similarity(text1, text2)\n",
        "\n",
        "    # score와 similarity에 따라 is_general 값을 설정   ->   similarity가 0.75, score가 0.85 보다 크면 연관있다고 판단\n",
        "    if score > 0.85 and similarity > 0.75:\n",
        "        metadata['is_general'] = 'True'\n",
        "        metadata['general_noun'] = text2\n",
        "    else:\n",
        "        metadata['is_general'] = 'False'\n",
        "        metadata['general_noun'] = ''\n",
        "\n",
        "    # 변경된 메타데이터와 기존 벡터를 사용하여 데이터 업데이트\n",
        "    index1.upsert(vectors=[(idx, vector_values, metadata)])\n",
        "\n",
        "    # print(f\"Updated {idx} with is_general={metadata['is_general']} based on score={score:.2f} and similarity={similarity:.2f}.\")"
      ]
    },
    {
      "cell_type": "markdown",
      "metadata": {
        "id": "l0eB8yx5lmt8"
      },
      "source": [
        "bad 리뷰에 대하여 벡터 DB1에 DB2의 정보 추가하기"
      ]
    },
    {
      "cell_type": "code",
      "execution_count": null,
      "metadata": {
        "id": "48Qm_UyzU67Z"
      },
      "outputs": [],
      "source": [
        "# 각 idx에 대해 반복 실행\n",
        "for i in range(10212):  # bad : 10213 존재\n",
        "    idx = f'bad-{i}'\n",
        "\n",
        "    # ID가 idx인 데이터를 조회합니다\n",
        "    result = index1.fetch(ids=[idx])\n",
        "\n",
        "    # 메타데이터와 벡터 데이터 추출\n",
        "    metadata = result['vectors'][idx]['metadata']\n",
        "    text1 = metadata['리뷰 요약']\n",
        "    vector_values = result['vectors'][idx]['values']\n",
        "    concern_category = metadata['건강고민정보']\n",
        "\n",
        "    # DB2에서 '건강고민정보' metadata가 concern_category와 일치하는 데이터를 검색합니다\n",
        "    query_result = index2.query(\n",
        "        vector=vector_values,\n",
        "        top_k=1,                      # 상위 1개의 결과를 반환\n",
        "        include_metadata=True,        # 메타데이터 포함\n",
        "        filter={\n",
        "            '건강고민정보': concern_category,\n",
        "            '리뷰 종류': 'bad'\n",
        "        }\n",
        "    )\n",
        "\n",
        "    # matches 리스트가 비어있지 않은지 확인하고 '일반 특성 정보'와 'score' 추출\n",
        "    if query_result['matches']:\n",
        "        text2 = query_result['matches'][0]['metadata']['일반 특성 정보']\n",
        "        score = query_result['matches'][0]['score']\n",
        "    else:\n",
        "        text2 = ''  # matches 리스트가 비어 있을 경우 빈 문자열 할당\n",
        "        score = 0   # matches 리스트가 비어 있을 경우 0 할당\n",
        "\n",
        "    similarity = calculate_cosine_similarity(text1, text2)\n",
        "\n",
        "    # score와 similarity에 따라 is_general 값을 설정   ->   similarity가 0.75, score가 0.85 보다 크면 연관있다고 판단\n",
        "    if score > 0.85 and similarity > 0.75:\n",
        "        metadata['is_general'] = 'True'\n",
        "        metadata['general_noun'] = text2\n",
        "    else:\n",
        "        metadata['is_general'] = 'False'\n",
        "        metadata['general_noun'] = ''\n",
        "\n",
        "    # 변경된 메타데이터와 기존 벡터를 사용하여 데이터 업데이트\n",
        "    index1.upsert(vectors=[(idx, vector_values, metadata)])\n",
        "\n",
        "    # print(f\"Updated {idx} with is_general={metadata['is_general']} based on score={score:.2f} and similarity={similarity:.2f}.\")"
      ]
    },
    {
      "cell_type": "code",
      "execution_count": null,
      "metadata": {
        "id": "BHAktyJvMpWF"
      },
      "outputs": [],
      "source": []
    },
    {
      "cell_type": "markdown",
      "metadata": {
        "id": "wAt95mOK9Qgm"
      },
      "source": [
        "# 벡터 DB 사용 관련"
      ]
    },
    {
      "cell_type": "code",
      "execution_count": null,
      "metadata": {
        "id": "YLjTZ8DZ9Svy"
      },
      "outputs": [],
      "source": [
        "from langchain_openai import OpenAIEmbeddings\n",
        "import pandas as pd\n",
        "import numpy as np\n",
        "from pinecone import Pinecone, ServerlessSpec"
      ]
    },
    {
      "cell_type": "code",
      "execution_count": null,
      "metadata": {
        "id": "af9fGOsI9Sxi"
      },
      "outputs": [],
      "source": [
        "# Pinecone 객체 생성 및 API 키 설정\n",
        "pc = Pinecone(api_key=api_key)"
      ]
    },
    {
      "cell_type": "code",
      "execution_count": null,
      "metadata": {
        "id": "S1CORJ3D9WDT"
      },
      "outputs": [],
      "source": [
        "# Pinecone index 이름 설정 및 생성\n",
        "index_name = \"adv-db-1\"\n",
        "index = pc.Index(name=index_name)"
      ]
    },
    {
      "cell_type": "code",
      "execution_count": null,
      "metadata": {
        "id": "4tzBl8bR9WFi"
      },
      "outputs": [],
      "source": [
        "query_question = input(\"조회 할 리뷰 요약 : \")\n",
        "query_embedding = embeddings_model.embed_query(query_question)\n",
        "query_embedding_np = np.array(query_embedding).astype(np.float32)\n",
        "query_embedding_list = query_embedding_np.tolist()"
      ]
    },
    {
      "cell_type": "code",
      "execution_count": null,
      "metadata": {
        "id": "dKSVdeof9arz"
      },
      "outputs": [],
      "source": [
        "# Pinecone 쿼리 실행\n",
        "response = index.query(\n",
        "    vector=query_embedding_list,  # 쿼리 벡터\n",
        "    top_k=3,                      # 상위 3개의 결과를 반환\n",
        "    include_metadata=True,        # 메타데이터 포함\n",
        "    filter={\n",
        "        '건강고민정보': concern_category, # 메타데이터 필터\n",
        "        '리뷰 종류': 'good'  # '리뷰 종류' 메타데이터가 'good'인 항목만 검색\n",
        "    }\n",
        ")"
      ]
    },
    {
      "cell_type": "code",
      "execution_count": null,
      "metadata": {
        "id": "Sp6vSduf9g_6"
      },
      "outputs": [],
      "source": [
        "result = response['matches']"
      ]
    },
    {
      "cell_type": "code",
      "execution_count": null,
      "metadata": {
        "id": "T32JkDfm9at3"
      },
      "outputs": [],
      "source": [
        "result"
      ]
    }
  ],
  "metadata": {
    "colab": {
      "collapsed_sections": [
        "CBrvYu__FBNi",
        "DoXY334yJ3wZ",
        "n7K7cR6pvOmb"
      ],
      "provenance": []
    },
    "kernelspec": {
      "display_name": "minkyung_GLRec",
      "language": "python",
      "name": "python3"
    },
    "language_info": {
      "name": "python",
      "version": "3.11.9"
    }
  },
  "nbformat": 4,
  "nbformat_minor": 0
}
