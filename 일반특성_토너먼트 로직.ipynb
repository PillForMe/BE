{
  "nbformat": 4,
  "nbformat_minor": 0,
  "metadata": {
    "colab": {
      "provenance": [],
      "collapsed_sections": [
        "4sk4c3ityvPX",
        "5ZpJHmxty4rX",
        "YsxiPGwLzTUG"
      ]
    },
    "kernelspec": {
      "name": "python3",
      "display_name": "Python 3"
    },
    "language_info": {
      "name": "python"
    }
  },
  "cells": [
    {
      "cell_type": "markdown",
      "source": [
        "**전달사항**\n",
        "\n",
        "\n",
        "**1. 알고리즘 1을 사용한다.**\n",
        "\n",
        "\n",
        "**2. 부정 일반 특성 정보의 경우 더 기피하고 싶은 것을 고르기 때문에 최종 순위를 뒤집어서 사용해야 한다.**"
      ],
      "metadata": {
        "id": "bnA2Lnzg8ZFH"
      }
    },
    {
      "cell_type": "markdown",
      "source": [
        "**사용자 입력을 통해 승자를 결정하기**"
      ],
      "metadata": {
        "id": "Tz2ju9CtrtGi"
      }
    },
    {
      "cell_type": "code",
      "source": [
        "# 긍정 일반 특성 정보\n",
        "def play_match(player1, player2):\n",
        "    choice = input(f\"{player1} 과 {player2} 중 더 선호하는 것을 골라주세요: \")\n",
        "    while choice not in [player1, player2]:\n",
        "        print(\"잘못된 선택입니다. 제공된 두개 중 하나를 선택해주세요.\")\n",
        "        choice = input(f\"{player1} 과 {player2} 중 더 선호하는 것을 골라주세요: \")\n",
        "    return choice"
      ],
      "metadata": {
        "id": "wbjMCvuKv0cA"
      },
      "execution_count": null,
      "outputs": []
    },
    {
      "cell_type": "markdown",
      "source": [
        "**부정 일반 특성 정보의 경우 최종 순위를 뒤집어서 출력하기**"
      ],
      "metadata": {
        "id": "Kr7Dl6aT6KrL"
      }
    },
    {
      "cell_type": "code",
      "source": [
        "# 부정 일반 특성 정보\n",
        "def play_match_minus(player1, player2):\n",
        "    choice = input(f\"{player1} 과 {player2} 중 더 기피하고 싶은 것을 골라주세요: \")\n",
        "    while choice not in [player1, player2]:\n",
        "        print(\"잘못된 선택입니다. 제공된 두개 중 하나를 선택해주세요.\")\n",
        "        choice = input(f\"{player1} 과 {player2} 중 더 기피하고 싶은 것을 골라주세요: \")\n",
        "    return choice"
      ],
      "metadata": {
        "id": "BEbvMJ8S5TM9"
      },
      "execution_count": null,
      "outputs": []
    },
    {
      "cell_type": "markdown",
      "source": [
        "# 알고리즘 1"
      ],
      "metadata": {
        "id": "4sk4c3ityvPX"
      }
    },
    {
      "cell_type": "markdown",
      "source": [
        "**부전승이 포함된 1차 토너먼트 이후 라운드별 패자끼리 재경기 -> 총 7경기 진행**"
      ],
      "metadata": {
        "id": "U_kAS-Fsy-mK"
      }
    },
    {
      "cell_type": "code",
      "source": [
        "import random\n",
        "\n",
        "# 초기 선수 설정\n",
        "players = ['A', 'B', 'C', 'D', 'E', 'F']\n",
        "\n",
        "# players 리스트에서 부전승을 할 2명을 랜덤 선택\n",
        "selected_players = random.sample(players, 2)\n",
        "\n",
        "players.remove(selected_players[0])\n",
        "players.remove(selected_players[1])"
      ],
      "metadata": {
        "id": "mzkEsrqJtS6h"
      },
      "execution_count": null,
      "outputs": []
    },
    {
      "cell_type": "code",
      "source": [
        "# 첫 경기를 할 2명을 랜덤 선택\n",
        "round1 = random.sample(players, 2)\n",
        "\n",
        "players.remove(round1[0])\n",
        "players.remove(round1[1])"
      ],
      "metadata": {
        "id": "nylszIHrvH0W"
      },
      "execution_count": null,
      "outputs": []
    },
    {
      "cell_type": "code",
      "source": [
        "# 1라운드\n",
        "winner1 = play_match(round1[0], round1[1])\n",
        "loser1 = round1[0] if winner1 == round1[1] else round1[1]\n",
        "winner2 = play_match(players[0], players[1])\n",
        "loser2 = players[0] if winner2 == players[1] else players[1]\n",
        "byes = [selected_players[0], [1]]\n",
        "\n",
        "# 2라운드: 1라운드의 승자 vs 부전승 팀\n",
        "semi_final1 = play_match(winner1, selected_players[0])\n",
        "semi_loser1 = winner1 if semi_final1 == selected_players[0] else selected_players[0]\n",
        "semi_final2 = play_match(winner2, selected_players[1])\n",
        "semi_loser2 = winner2 if semi_final2 == selected_players[1] else selected_players[1]"
      ],
      "metadata": {
        "colab": {
          "base_uri": "https://localhost:8080/"
        },
        "id": "Us8_z6xclslP",
        "outputId": "879a0430-9684-4897-a9f3-8b8a32808e6f"
      },
      "execution_count": null,
      "outputs": [
        {
          "name": "stdout",
          "output_type": "stream",
          "text": [
            "Choose the winner between C and B: B\n",
            "Choose the winner between A and D: A\n",
            "Choose the winner between B and F: F\n",
            "Choose the winner between A and E: A\n"
          ]
        }
      ]
    },
    {
      "cell_type": "code",
      "source": [
        "# 3라운드: 2라운드의 승자끼리 대결 -> 결승전을 통해 1,2위 결정\n",
        "final_winner = play_match(semi_final1, semi_final2)\n",
        "final_loser = semi_final1 if final_winner == semi_final2 else semi_final2"
      ],
      "metadata": {
        "colab": {
          "base_uri": "https://localhost:8080/"
        },
        "id": "vXLLmXDvlspb",
        "outputId": "440ab1e4-0f9e-4798-86ec-4c31b2633d5a"
      },
      "execution_count": null,
      "outputs": [
        {
          "name": "stdout",
          "output_type": "stream",
          "text": [
            "Choose the winner between F and A: F\n"
          ]
        }
      ]
    },
    {
      "cell_type": "code",
      "source": [
        "# 4라운드: 2라운드의 패자끼리 대결\n",
        "third_place_match = play_match(semi_loser1,semi_loser2)\n",
        "fourth_place = semi_loser1 if third_place_match == semi_loser2 else semi_loser2\n",
        "\n",
        "# 5라운드: 1라운드의 패자끼리 대결\n",
        "fifth_place_match = play_match(loser1, loser2)\n",
        "sixth_place = loser2 if fifth_place_match == loser1 else loser1"
      ],
      "metadata": {
        "colab": {
          "base_uri": "https://localhost:8080/"
        },
        "id": "TvpxiD6Flsrl",
        "outputId": "876fe3ca-f43c-4d99-dec9-32aa7e961e4a"
      },
      "execution_count": null,
      "outputs": [
        {
          "name": "stdout",
          "output_type": "stream",
          "text": [
            "Choose the winner between B and E: B\n",
            "Choose the winner between C and D: C\n"
          ]
        }
      ]
    },
    {
      "cell_type": "code",
      "source": [
        "# 결과 출력\n",
        "print(f\"1등: {final_winner}\")\n",
        "print(f\"2등: {final_loser}\")\n",
        "print(f\"3등: {third_place_match}\")\n",
        "print(f\"4등: {fourth_place}\")\n",
        "print(f\"5등: {fifth_place_match}\")\n",
        "print(f\"6등: {sixth_place}\")"
      ],
      "metadata": {
        "colab": {
          "base_uri": "https://localhost:8080/"
        },
        "id": "Tu1Cp2oWlstL",
        "outputId": "853cd5bf-6c79-4807-f184-4af40ab8b283"
      },
      "execution_count": null,
      "outputs": [
        {
          "output_type": "stream",
          "name": "stdout",
          "text": [
            "1등: F\n",
            "2등: A\n",
            "3등: B\n",
            "4등: E\n",
            "5등: C\n",
            "6등: D\n"
          ]
        }
      ]
    },
    {
      "cell_type": "markdown",
      "source": [
        "# 알고리즘 2"
      ],
      "metadata": {
        "id": "5ZpJHmxty4rX"
      }
    },
    {
      "cell_type": "markdown",
      "source": [
        "**1,2등 확정 후 나머지 4명끼리 다시 토너먼트 -> 총 9경기 진행**"
      ],
      "metadata": {
        "id": "U3vKgoVHrpKN"
      }
    },
    {
      "cell_type": "code",
      "source": [
        "import random\n",
        "\n",
        "# 초기 선수 설정\n",
        "players = ['A', 'B', 'C', 'D', 'E', 'F']\n",
        "players2 = players.copy()\n",
        "\n",
        "# players 리스트에서 부전승을 할 2명을 랜덤 선택\n",
        "selected_players = random.sample(players, 2)\n",
        "\n",
        "players.remove(selected_players[0])\n",
        "players.remove(selected_players[1])"
      ],
      "metadata": {
        "id": "g6CoSm8Glsu6"
      },
      "execution_count": null,
      "outputs": []
    },
    {
      "cell_type": "code",
      "source": [
        "# 첫 경기를 할 2명을 랜덤 선택\n",
        "round1 = random.sample(players, 2)\n",
        "\n",
        "players.remove(round1[0])\n",
        "players.remove(round1[1])"
      ],
      "metadata": {
        "id": "ZaW9d38ylsyQ"
      },
      "execution_count": null,
      "outputs": []
    },
    {
      "cell_type": "code",
      "source": [
        "# 1라운드\n",
        "winner1 = play_match(round1[0], round1[1])\n",
        "loser1 = round1[0] if winner1 == round1[1] else round1[1]\n",
        "winner2 = play_match(players[0], players[1])\n",
        "loser2 = players[0] if winner2 == players[1] else players[1]\n",
        "byes = [selected_players[0], [1]]\n",
        "\n",
        "# 2라운드: 1라운드의 승자 vs 부전승 팀\n",
        "semi_final1 = play_match(winner1, selected_players[0])\n",
        "semi_loser1 = winner1 if semi_final1 == selected_players[0] else selected_players[0]\n",
        "semi_final2 = play_match(winner2, selected_players[1])\n",
        "semi_loser2 = winner2 if semi_final2 == selected_players[1] else selected_players[1]"
      ],
      "metadata": {
        "colab": {
          "base_uri": "https://localhost:8080/"
        },
        "id": "xQFeJ2XLyorr",
        "outputId": "23110728-1372-4f8a-97e6-c8de7d49f5a3"
      },
      "execution_count": null,
      "outputs": [
        {
          "name": "stdout",
          "output_type": "stream",
          "text": [
            "Choose the winner between A and F: F\n",
            "Choose the winner between B and E: E\n",
            "Choose the winner between F and C: F\n",
            "Choose the winner between E and D: D\n"
          ]
        }
      ]
    },
    {
      "cell_type": "code",
      "source": [
        "# 3라운드: 2라운드의 승자끼리 대결 -> 결승전을 통해 1,2위 결정\n",
        "final_winner = play_match(semi_final1, semi_final2)\n",
        "final_loser = semi_final1 if final_winner == semi_final2 else semi_final2"
      ],
      "metadata": {
        "colab": {
          "base_uri": "https://localhost:8080/"
        },
        "id": "DtYa9SzFyovA",
        "outputId": "6589acc6-00eb-4d49-d0fb-c452ca39827d"
      },
      "execution_count": null,
      "outputs": [
        {
          "name": "stdout",
          "output_type": "stream",
          "text": [
            "Choose the winner between F and D: F\n"
          ]
        }
      ]
    },
    {
      "cell_type": "code",
      "source": [
        "# 1, 2를 제외한 재경기 대상 선정\n",
        "players2.remove(final_winner)\n",
        "players2.remove(final_loser)\n",
        "\n",
        "# 첫 경기를 할 2명을 랜덤 선택\n",
        "round2 = random.sample(players2, 2)\n",
        "players2.remove(round2[0])\n",
        "players2.remove(round2[1])"
      ],
      "metadata": {
        "id": "ZTFXbfs7yKH0"
      },
      "execution_count": null,
      "outputs": []
    },
    {
      "cell_type": "code",
      "source": [
        "# 패자 1라운드\n",
        "winner3 = play_match(round2[0], round2[1])\n",
        "loser3 = round2[0] if winner3 == round2[1] else round2[1]\n",
        "\n",
        "winner4 = play_match(players2[0], players2[1])\n",
        "loser4 = players2[0] if winner4 == players2[1] else players2[1]"
      ],
      "metadata": {
        "colab": {
          "base_uri": "https://localhost:8080/"
        },
        "id": "jHkqTtOY2CLV",
        "outputId": "8e34c7be-59a1-42d3-ed38-7cc73b6394eb"
      },
      "execution_count": null,
      "outputs": [
        {
          "name": "stdout",
          "output_type": "stream",
          "text": [
            "Choose the winner between C and B: C\n",
            "Choose the winner between A and E: A\n"
          ]
        }
      ]
    },
    {
      "cell_type": "code",
      "source": [
        "# 패자 결승전 : 패자 1라운드의 승자끼리 대결 -> 3,4위 결정\n",
        "third_place_match = play_match(winner3, winner4)\n",
        "fourth_place = winner3 if third_place_match == winner4 else winner4"
      ],
      "metadata": {
        "colab": {
          "base_uri": "https://localhost:8080/"
        },
        "id": "CNeE6ig-2COr",
        "outputId": "249f1308-3679-4d3d-8e8a-2d6ab3b99455"
      },
      "execution_count": null,
      "outputs": [
        {
          "name": "stdout",
          "output_type": "stream",
          "text": [
            "Choose the winner between C and A: C\n"
          ]
        }
      ]
    },
    {
      "cell_type": "code",
      "source": [
        "# 5,6위 결정전\n",
        "fifth_place_match = play_match(loser3, loser4)\n",
        "sixth_place = loser3 if fifth_place_match == loser4 else loser4"
      ],
      "metadata": {
        "colab": {
          "base_uri": "https://localhost:8080/"
        },
        "id": "3hsI_cIx28VU",
        "outputId": "8fd5ad8d-e521-4fb2-92bb-513655fb58b4"
      },
      "execution_count": null,
      "outputs": [
        {
          "name": "stdout",
          "output_type": "stream",
          "text": [
            "Choose the winner between B and E: B\n"
          ]
        }
      ]
    },
    {
      "cell_type": "code",
      "source": [
        "# 결과 출력\n",
        "print(f\"1등: {final_winner}\")\n",
        "print(f\"2등: {final_loser}\")\n",
        "print(f\"3등: {third_place_match}\")\n",
        "print(f\"4등: {fourth_place}\")\n",
        "print(f\"5등: {fifth_place_match}\")\n",
        "print(f\"6등: {sixth_place}\")"
      ],
      "metadata": {
        "colab": {
          "base_uri": "https://localhost:8080/"
        },
        "id": "uVGVBw5gyKLK",
        "outputId": "c2b8c688-c512-4147-be5c-a6e64a10fab4"
      },
      "execution_count": null,
      "outputs": [
        {
          "output_type": "stream",
          "name": "stdout",
          "text": [
            "1등: F\n",
            "2등: D\n",
            "3등: C\n",
            "4등: A\n",
            "5등: B\n",
            "6등: E\n"
          ]
        }
      ]
    },
    {
      "cell_type": "markdown",
      "source": [
        "# 알고리즘 3"
      ],
      "metadata": {
        "id": "YsxiPGwLzTUG"
      }
    },
    {
      "cell_type": "markdown",
      "source": [
        "조별 리그 + 토너먼트  ->  최소 11경기 예상**"
      ],
      "metadata": {
        "id": "XVURHC2tyKdb"
      }
    },
    {
      "cell_type": "code",
      "source": [
        "def round_robin(players):\n",
        "    \"\"\" 라운드 로빈 방식으로 경기를 진행하고, 승점으로 순위를 매깁니다. \"\"\"\n",
        "    scores = {player: 0 for player in players}\n",
        "    for i in range(len(players)):\n",
        "        for j in range(i + 1, len(players)):\n",
        "            winner = play_match(players[i], players[j])\n",
        "            scores[winner] += 1\n",
        "    # 승점으로 정렬하여 순위를 반환\n",
        "    sorted_players = sorted(scores, key=scores.get, reverse=True)\n",
        "    return sorted_players"
      ],
      "metadata": {
        "id": "fHwMD0TLn6Km"
      },
      "execution_count": null,
      "outputs": []
    },
    {
      "cell_type": "code",
      "source": [
        "def recursive_tournament(players):\n",
        "    if len(players) <= 1:\n",
        "        return players\n",
        "    mid = len(players) // 2\n",
        "    group1 = round_robin(players[:mid])\n",
        "    group2 = round_robin(players[mid:])\n",
        "\n",
        "    # 결승 라운드 진행\n",
        "    final_match = play_match(group1[0], group2[0])\n",
        "\n",
        "    # 재귀적으로 순위 결정\n",
        "    remaining_group1 = recursive_tournament(group1[1:])\n",
        "    remaining_group2 = recursive_tournament(group2[1:])\n",
        "\n",
        "    return [final_match, group1[0] if final_match == group2[0] else group2[0]] + remaining_group1 + remaining_group2"
      ],
      "metadata": {
        "id": "auOCyy6BoGZd"
      },
      "execution_count": null,
      "outputs": []
    },
    {
      "cell_type": "code",
      "source": [
        "# 일반 특성 정보가 들어왔다고 가정\n",
        "players = [\"Player 1\", \"Player 2\", \"Player 3\", \"Player 4\", \"Player 5\", \"Player 6\"]\n",
        "rankings = recursive_tournament(players)\n",
        "print(rankings)"
      ],
      "metadata": {
        "colab": {
          "base_uri": "https://localhost:8080/"
        },
        "id": "9qjh_P1xvIsk",
        "outputId": "04a26d01-9154-430f-dfc8-c998d6431932"
      },
      "execution_count": null,
      "outputs": [
        {
          "output_type": "stream",
          "name": "stdout",
          "text": [
            "Choose the winner between Player 1 and Player 2: Player 1\n",
            "Choose the winner between Player 1 and Player 3: Player 3\n",
            "Choose the winner between Player 2 and Player 3: Player 2\n",
            "Choose the winner between Player 4 and Player 5: Player 5\n",
            "Choose the winner between Player 4 and Player 6: Player 4\n",
            "Choose the winner between Player 5 and Player 6: Player 5\n",
            "Choose the winner between Player 1 and Player 5: Player 1\n",
            "Choose the winner between Player 2 and Player 3: Player 3\n",
            "Choose the winner between Player 4 and Player 6: Player 4\n",
            "['Player 1', 'Player 5', 'Player 3', 'Player 2', 'Player 4', 'Player 6']\n"
          ]
        }
      ]
    }
  ]
}